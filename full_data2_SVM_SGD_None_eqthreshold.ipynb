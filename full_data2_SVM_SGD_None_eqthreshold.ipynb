{
 "cells": [
  {
   "cell_type": "code",
   "execution_count": 1,
   "metadata": {
    "collapsed": true
   },
   "outputs": [],
   "source": [
    "import scipy.io\n",
    "import numpy as np\n",
    "import operator as op"
   ]
  },
  {
   "cell_type": "code",
   "execution_count": 2,
   "metadata": {
    "collapsed": true
   },
   "outputs": [],
   "source": [
    "%matplotlib inline\n",
    "import matplotlib\n",
    "import matplotlib.pyplot as plt # matplotlib\n",
    "matplotlib.rcParams['figure.figsize'] = list(map(lambda x: 2*x, matplotlib.rcParams['figure.figsize']))\n",
    "matplotlib.style.use('ggplot')"
   ]
  },
  {
   "cell_type": "code",
   "execution_count": 3,
   "metadata": {
    "collapsed": false
   },
   "outputs": [
    {
     "data": {
      "text/plain": [
       "dict_keys(['__header__', '__version__', '__globals__', 'bin', 'data1_Xian', 'label1', 'spotColumn1_Xian', 'spotRow1_Xian'])"
      ]
     },
     "execution_count": 3,
     "metadata": {},
     "output_type": "execute_result"
    }
   ],
   "source": [
    "data_2 = scipy.io.loadmat('../../data2.mat')\n",
    "data_1 = scipy.io.loadmat('../../data1.mat')\n",
    "data_1.keys()"
   ]
  },
  {
   "cell_type": "code",
   "execution_count": 4,
   "metadata": {
    "collapsed": false
   },
   "outputs": [
    {
     "data": {
      "text/plain": [
       "array([[  1996.95878277],\n",
       "       [  1998.24538575],\n",
       "       [  1999.53198872],\n",
       "       ..., \n",
       "       [ 20005.54064941],\n",
       "       [ 20006.82725239],\n",
       "       [ 20008.11385537]])"
      ]
     },
     "execution_count": 4,
     "metadata": {},
     "output_type": "execute_result"
    }
   ],
   "source": [
    "coorX_1 = data_1['spotRow1_Xian'][0]\n",
    "coorY_1 = data_1['spotColumn1_Xian'][0]\n",
    "mz_values_1 = data_1['bin'].T\n",
    "mz_values_1"
   ]
  },
  {
   "cell_type": "code",
   "execution_count": 5,
   "metadata": {
    "collapsed": false
   },
   "outputs": [],
   "source": [
    "coorY_2 = data_2['spotColumn2_Xian'][0]\n",
    "coorX_2 = data_2['spotRow2_Xian'][0]\n",
    "mz_values_2 = data_2['bin'].T"
   ]
  },
  {
   "cell_type": "code",
   "execution_count": 6,
   "metadata": {
    "collapsed": false
   },
   "outputs": [
    {
     "name": "stdout",
     "output_type": "stream",
     "text": [
      "nrows 129, ncols 154\n"
     ]
    }
   ],
   "source": [
    "coorX_1 -= coorX_1.min()\n",
    "coorY_1 -= coorY_1.min()\n",
    "\n",
    "nrows_1 = coorX_1.max() + 1\n",
    "ncols_1 = coorY_1.max() + 1\n",
    "print('nrows %d, ncols %d' % (nrows_1, ncols_1))"
   ]
  },
  {
   "cell_type": "code",
   "execution_count": 7,
   "metadata": {
    "collapsed": false
   },
   "outputs": [
    {
     "name": "stdout",
     "output_type": "stream",
     "text": [
      "nrows 98, ncols 138\n"
     ]
    }
   ],
   "source": [
    "coorX_2 -= coorX_2.min()\n",
    "coorY_2 -= coorY_2.min()\n",
    "\n",
    "nrows_2 = coorX_2.max() + 1\n",
    "ncols_2 = coorY_2.max() + 1\n",
    "print('nrows %d, ncols %d' % (nrows_2, ncols_2))"
   ]
  },
  {
   "cell_type": "code",
   "execution_count": 8,
   "metadata": {
    "collapsed": false
   },
   "outputs": [],
   "source": [
    "mask_1 = np.zeros((nrows_1, ncols_1))\n",
    "for r, c in zip(coorX_1, coorY_1):\n",
    "    mask_1[r,c] = 1\n",
    "\n",
    "#plt.imshow(mask_1, cmap='binary')"
   ]
  },
  {
   "cell_type": "code",
   "execution_count": 9,
   "metadata": {
    "collapsed": false
   },
   "outputs": [],
   "source": [
    "mask_2 = np.zeros((nrows_2, ncols_2))\n",
    "for r, c in zip(coorX_2, coorY_2):\n",
    "    mask_2[r,c] = 1\n",
    "\n",
    "#plt.imshow(mask_2, cmap='binary')"
   ]
  },
  {
   "cell_type": "code",
   "execution_count": 10,
   "metadata": {
    "collapsed": false
   },
   "outputs": [
    {
     "data": {
      "text/plain": [
       "(9577, 14000)"
      ]
     },
     "execution_count": 10,
     "metadata": {},
     "output_type": "execute_result"
    }
   ],
   "source": [
    "data_cube_1 = np.zeros((nrows_1, ncols_1, mz_values_1.shape[0]))\n",
    "data_cube_1[coorX_1, coorY_1, :] = data_1[\"data1_Xian\"]\n",
    "\n",
    "data_matrix_1 = data_1['data1_Xian']\n",
    "data_matrix_1.shape"
   ]
  },
  {
   "cell_type": "code",
   "execution_count": 11,
   "metadata": {
    "collapsed": false
   },
   "outputs": [
    {
     "data": {
      "text/plain": [
       "(6869, 14000)"
      ]
     },
     "execution_count": 11,
     "metadata": {},
     "output_type": "execute_result"
    }
   ],
   "source": [
    "data_cube_2 = np.zeros((nrows_2, ncols_2, mz_values_2.shape[0]))\n",
    "data_cube_2[coorX_2, coorY_2, :] = data_2[\"data2_Xian\"]\n",
    "\n",
    "data_matrix_2 = data_2['data2_Xian']\n",
    "data_matrix_2.shape"
   ]
  },
  {
   "cell_type": "code",
   "execution_count": 12,
   "metadata": {
    "collapsed": false
   },
   "outputs": [
    {
     "data": {
      "text/plain": [
       "(9577, 2)"
      ]
     },
     "execution_count": 12,
     "metadata": {},
     "output_type": "execute_result"
    }
   ],
   "source": [
    "row2grid_1 = {r: (coorX_1[r], coorY_1[r]) for r in range(data_matrix_1.shape[0])}\n",
    "grid2row_1 = {(coorX_1[r], coorY_1[r]): r for r in range(data_matrix_1.shape[0])}\n",
    "\n",
    "get_bin_1 = lambda mz: np.argmin(np.abs(mz_values_1 - mz))\n",
    "\n",
    "real_rows_1 = []\n",
    "real_rows_xy_1 = []\n",
    "for r in range(nrows_1):\n",
    "    for c in range(ncols_1):\n",
    "        try:\n",
    "            row_1 = grid2row_1[(r, c)]\n",
    "            real_rows_xy_1.append((r, c))\n",
    "            real_rows_1.append(row_1)\n",
    "        except:\n",
    "            pass\n",
    "        \n",
    "real_rows_1 = np.array(real_rows_1)\n",
    "real_rows_1.shape\n",
    "\n",
    "real_rows_xy_1 = np.array(np.array(real_rows_xy_1))\n",
    "real_rows_xy_1.shape"
   ]
  },
  {
   "cell_type": "code",
   "execution_count": 13,
   "metadata": {
    "collapsed": false
   },
   "outputs": [
    {
     "data": {
      "text/plain": [
       "(6869, 2)"
      ]
     },
     "execution_count": 13,
     "metadata": {},
     "output_type": "execute_result"
    }
   ],
   "source": [
    "row2grid_2 = {r: (coorX_2[r], coorY_2[r]) for r in range(data_matrix_2.shape[0])}\n",
    "grid2row_2 = {(coorX_2[r], coorY_2[r]): r for r in range(data_matrix_2.shape[0])}\n",
    "\n",
    "get_bin_2 = lambda mz: np.argmin(np.abs(mz_values_2 - mz))\n",
    "\n",
    "real_rows_2 = []\n",
    "real_rows_xy_2 = []\n",
    "for r in range(nrows_2):\n",
    "    for c in range(ncols_2):\n",
    "        try:\n",
    "            row_2 = grid2row_2[(r, c)]\n",
    "            real_rows_xy_2.append((r, c))\n",
    "            real_rows_2.append(row_2)\n",
    "        except:\n",
    "            pass\n",
    "        \n",
    "real_rows_2 = np.array(real_rows_2)\n",
    "real_rows_2.shape\n",
    "\n",
    "real_rows_xy_2 = np.array(np.array(real_rows_xy_2))\n",
    "real_rows_xy_2.shape"
   ]
  },
  {
   "cell_type": "code",
   "execution_count": 14,
   "metadata": {
    "collapsed": true
   },
   "outputs": [],
   "source": [
    "def make_image_1(rows): # very inefficient implementation but doesnt matter\n",
    "    \"\"\"Makes a 2d image from row indices in raw data.\"\"\"\n",
    "    img_1 = np.zeros((nrows_1, ncols_1)) + 1   \n",
    "    for r in range(nrows_1):\n",
    "        for c in range(ncols_1):\n",
    "            try:\n",
    "                row = grid2row_1[(r, c)]\n",
    "                img_1[r, c] = rows[row]\n",
    "            except:\n",
    "                pass\n",
    "    return img_1\n",
    "\n",
    "def make_image_real_1(rows):\n",
    "    \"\"\"Makes a 2d image from real rows with data (i.e., rows in real_rows).\"\"\"\n",
    "    img_1 = np.zeros((nrows_1, ncols_1)) \n",
    "    for idx, val in enumerate(rows):\n",
    "        x, y = real_rows_xy_1[idx]\n",
    "        img_1[x, y] = val\n",
    "    return img_1"
   ]
  },
  {
   "cell_type": "code",
   "execution_count": 15,
   "metadata": {
    "collapsed": true
   },
   "outputs": [],
   "source": [
    "def make_image_2(rows): # very inefficient implementation but doesnt matter\n",
    "    \"\"\"Makes a 2d image from row indices in raw data.\"\"\"\n",
    "    img_2 = np.zeros((nrows_2, ncols_2)) + 1   \n",
    "    for r in range(nrows_2):\n",
    "        for c in range(ncols_2):\n",
    "            try:\n",
    "                row = grid2row_2[(r, c)]\n",
    "                img_2[r, c] = rows[row]\n",
    "            except:\n",
    "                pass\n",
    "    return img_2\n",
    "\n",
    "def make_image_real_2(rows):\n",
    "    \"\"\"Makes a 2d image from real rows with data (i.e., rows in real_rows).\"\"\"\n",
    "    img_2 = np.zeros((nrows_2, ncols_2)) \n",
    "    for idx, val in enumerate(rows):\n",
    "        x, y = real_rows_xy_2[idx]\n",
    "        img_2[x, y] = val\n",
    "    return img_2"
   ]
  },
  {
   "cell_type": "code",
   "execution_count": 16,
   "metadata": {
    "collapsed": false
   },
   "outputs": [
    {
     "data": {
      "text/plain": [
       "<matplotlib.colorbar.Colorbar at 0x7f450309ee80>"
      ]
     },
     "execution_count": 16,
     "metadata": {},
     "output_type": "execute_result"
    },
    {
     "data": {
      "image/png": "[encoded data removed]",
      "text/plain": [
       "<matplotlib.figure.Figure at 0x7f468016bcf8>"
      ]
     },
     "metadata": {},
     "output_type": "display_data"
    }
   ],
   "source": [
    "from config import molecular_mass\n",
    "\n",
    "bin_idx_1 = get_bin_1(molecular_mass) # molecular mass 5800\n",
    "#plt.imshow(data_cube[:,:, insulin_bin_idx])\n",
    "\n",
    "bin_img_1 = make_image_1(data_matrix_1[:, bin_idx_1]) \n",
    "\n",
    "plt.imshow(np.log10(1+bin_img_1), cmap = 'viridis') # log10 changes the distribution so we can see what's going on better\n",
    "plt.colorbar()\n",
    "#python 3"
   ]
  },
  {
   "cell_type": "code",
   "execution_count": 17,
   "metadata": {
    "collapsed": false
   },
   "outputs": [
    {
     "data": {
      "text/plain": [
       "<matplotlib.colorbar.Colorbar at 0x7f4502e27080>"
      ]
     },
     "execution_count": 17,
     "metadata": {},
     "output_type": "execute_result"
    },
    {
     "data": {
      "image/png": "[encoded data removed]",
      "text/plain": [
       "<matplotlib.figure.Figure at 0x7f45030c8550>"
      ]
     },
     "metadata": {},
     "output_type": "display_data"
    }
   ],
   "source": [
    "bin_idx_2 = get_bin_2(molecular_mass) # molecular mass 5800\n",
    "#plt.imshow(data_cube[:,:, insulin_bin_idx])\n",
    "\n",
    "bin_img_2 = make_image_2(data_matrix_2[:, bin_idx_2]) \n",
    "\n",
    "plt.imshow(np.log10(1+bin_img_2), cmap = 'viridis') # log10 changes the distribution so we can see what's going on better\n",
    "plt.colorbar()\n",
    "#python 3"
   ]
  },
  {
   "cell_type": "code",
   "execution_count": 18,
   "metadata": {
    "collapsed": false
   },
   "outputs": [],
   "source": [
    "#plt.hist(np.log10(1+data_matrix_1[:, bin_idx_1]), bins=50)\n",
    "#in m/z = 5800, each 'pixel' intensity"
   ]
  },
  {
   "cell_type": "code",
   "execution_count": 19,
   "metadata": {
    "collapsed": false
   },
   "outputs": [],
   "source": [
    "#plt.hist(np.log10(1+data_matrix_2[:, bin_idx_2]), bins=50)\n",
    "#in m/z = 5800, each 'pixel' intensity"
   ]
  },
  {
   "cell_type": "markdown",
   "metadata": {},
   "source": [
    "Normalization TIC"
   ]
  },
  {
   "cell_type": "code",
   "execution_count": 20,
   "metadata": {
    "collapsed": false
   },
   "outputs": [
    {
     "data": {
      "text/plain": [
       "(9577, 14000)"
      ]
     },
     "execution_count": 20,
     "metadata": {},
     "output_type": "execute_result"
    }
   ],
   "source": [
    "#normalisation TIC: calculate the sum of all peaks' intensities in a spectrum as the normalization factor and then all spectrum intensities \n",
    "#are divided by this value\n",
    "data_matrix_1_ = data_matrix_1.astype(np.float64)\n",
    "row_sums_1 = data_matrix_1_.sum(axis=1)\n",
    "data_matrix_1 = data_matrix_1_ / row_sums_1[:, np.newaxis]\n",
    "data_matrix_1.shape"
   ]
  },
  {
   "cell_type": "code",
   "execution_count": 21,
   "metadata": {
    "collapsed": false
   },
   "outputs": [],
   "source": [
    "#plt.hist(np.log10(1+data_matrix_1[:, bin_idx_1]), bins=50)"
   ]
  },
  {
   "cell_type": "code",
   "execution_count": 22,
   "metadata": {
    "collapsed": false
   },
   "outputs": [
    {
     "data": {
      "text/plain": [
       "(6869, 14000)"
      ]
     },
     "execution_count": 22,
     "metadata": {},
     "output_type": "execute_result"
    }
   ],
   "source": [
    "#normalisation TIC: calculate the sum of all peaks' intensities in a spectrum as the normalization factor and then all spectrum intensities \n",
    "#are divided by this value\n",
    "data_matrix_2_ = data_matrix_2.astype(np.float64)\n",
    "row_sums_2 = data_matrix_2_.sum(axis=1)\n",
    "data_matrix_2 = data_matrix_2_ / row_sums_2[:, np.newaxis]\n",
    "data_matrix_2.shape\n",
    "#plt.hist(np.log10(1+data_matrix_2[:, bin_idx_2]), bins=50)"
   ]
  },
  {
   "cell_type": "code",
   "execution_count": 23,
   "metadata": {
    "collapsed": false
   },
   "outputs": [
    {
     "name": "stdout",
     "output_type": "stream",
     "text": [
      "9577 labels, 9577 real data points, 399 positives\n"
     ]
    },
    {
     "data": {
      "text/plain": [
       "<matplotlib.colorbar.Colorbar at 0x7f44273d2ac8>"
      ]
     },
     "execution_count": 23,
     "metadata": {},
     "output_type": "execute_result"
    },
    {
     "data": {
      "image/png": "[encoded data removed]",
      "text/plain": [
       "<matplotlib.figure.Figure at 0x7f45057f9f60>"
      ]
     },
     "metadata": {},
     "output_type": "display_data"
    }
   ],
   "source": [
    "cutoff_1 = 0.005\n",
    "\n",
    "labels_1 = data_matrix_1[:, bin_idx_1] > cutoff_1\n",
    "print('%d labels, %d real data points, %d positives' % (len(labels_1), len(labels_1[real_rows_1]), sum(labels_1)))\n",
    "#plt.imshow(make_image(labels))\n",
    "#plt.imshow(make_image(labels[real_rows]))\n",
    "plt.imshow(make_image_real_1(labels_1[real_rows_1]))\n",
    "plt.imshow(mask_1, cmap='binary',alpha = 0.3)\n",
    "#plt.imshow(np.log10(1+bin_img),alpha = 0.5) # log10 changes the distribution so we can see what's going on better\n",
    "\n",
    "plt.colorbar()\n",
    "#python 3"
   ]
  },
  {
   "cell_type": "code",
   "execution_count": 24,
   "metadata": {
    "collapsed": false
   },
   "outputs": [
    {
     "name": "stdout",
     "output_type": "stream",
     "text": [
      "6869 labels, 6869 real data points, 89 positives\n"
     ]
    },
    {
     "data": {
      "text/plain": [
       "<matplotlib.colorbar.Colorbar at 0x7f4427276a90>"
      ]
     },
     "execution_count": 24,
     "metadata": {},
     "output_type": "execute_result"
    },
    {
     "data": {
      "image/png": "[encoded data removed]",
      "text/plain": [
       "<matplotlib.figure.Figure at 0x7f44273900f0>"
      ]
     },
     "metadata": {},
     "output_type": "display_data"
    }
   ],
   "source": [
    "cutoff_2 = 0.005\n",
    "\n",
    "labels_2 = data_matrix_2[:, bin_idx_2] > cutoff_2\n",
    "print('%d labels, %d real data points, %d positives' % (len(labels_2), len(labels_2[real_rows_2]), sum(labels_2)))\n",
    "#plt.imshow(make_image(labels))\n",
    "#plt.imshow(make_image(labels[real_rows]))\n",
    "plt.imshow(make_image_real_2(labels_2[real_rows_2]))\n",
    "plt.imshow(mask_2, cmap='binary',alpha = 0.3)\n",
    "#plt.imshow(np.log10(1+bin_img),alpha = 0.5) # log10 changes the distribution so we can see what's going on better\n",
    "\n",
    "plt.colorbar()\n",
    "#python 3"
   ]
  },
  {
   "cell_type": "code",
   "execution_count": 25,
   "metadata": {
    "collapsed": false
   },
   "outputs": [
    {
     "data": {
      "text/plain": [
       "(9577, 13999)"
      ]
     },
     "execution_count": 25,
     "metadata": {},
     "output_type": "execute_result"
    }
   ],
   "source": [
    "real_labels_1 = labels_1[real_rows_1]\n",
    "real_data_1 = data_matrix_1[real_rows_1, :]\n",
    "real_data_1 = real_data_1[:, np.arange(data_matrix_1.shape[1]) != bin_idx_1]\n",
    "real_data_1.shape"
   ]
  },
  {
   "cell_type": "code",
   "execution_count": 26,
   "metadata": {
    "collapsed": false
   },
   "outputs": [
    {
     "data": {
      "text/plain": [
       "(6869, 13999)"
      ]
     },
     "execution_count": 26,
     "metadata": {},
     "output_type": "execute_result"
    }
   ],
   "source": [
    "real_labels_2 = labels_2[real_rows_2]\n",
    "real_data_2 = data_matrix_2[real_rows_2, :]\n",
    "real_data_2 = real_data_2[:, np.arange(data_matrix_2.shape[1]) != bin_idx_2]\n",
    "real_data_2.shape"
   ]
  },
  {
   "cell_type": "code",
   "execution_count": 27,
   "metadata": {
    "collapsed": false
   },
   "outputs": [
    {
     "data": {
      "text/plain": [
       "2956"
      ]
     },
     "execution_count": 27,
     "metadata": {},
     "output_type": "execute_result"
    }
   ],
   "source": [
    "bin_idx_ = get_bin_1(molecular_mass)\n",
    "bin_idx_"
   ]
  },
  {
   "cell_type": "code",
   "execution_count": 28,
   "metadata": {
    "collapsed": false
   },
   "outputs": [
    {
     "data": {
      "text/plain": [
       "2956"
      ]
     },
     "execution_count": 28,
     "metadata": {},
     "output_type": "execute_result"
    }
   ],
   "source": [
    "bin_idx__ = get_bin_2(molecular_mass)\n",
    "bin_idx__"
   ]
  },
  {
   "cell_type": "code",
   "execution_count": 29,
   "metadata": {
    "collapsed": false
   },
   "outputs": [
    {
     "data": {
      "text/plain": [
       "(9577, 13980)"
      ]
     },
     "execution_count": 29,
     "metadata": {},
     "output_type": "execute_result"
    }
   ],
   "source": [
    "#filtering out m/z bins that are strongly correlated to your target bin (i.e., bins in the range 5790-5810)\n",
    "index_1 = np.arange(data_matrix_1.shape[1])[2946:2966]\n",
    "data_left_1 = np.delete(data_matrix_1[real_rows_1, :],index_1,1)\n",
    "data_left_1.shape"
   ]
  },
  {
   "cell_type": "code",
   "execution_count": 30,
   "metadata": {
    "collapsed": false
   },
   "outputs": [
    {
     "data": {
      "text/plain": [
       "array([2946, 2947, 2948, 2949, 2950, 2951, 2952, 2953, 2954, 2955, 2956,\n",
       "       2957, 2958, 2959, 2960, 2961, 2962, 2963, 2964, 2965])"
      ]
     },
     "execution_count": 30,
     "metadata": {},
     "output_type": "execute_result"
    }
   ],
   "source": [
    "index_1"
   ]
  },
  {
   "cell_type": "code",
   "execution_count": 31,
   "metadata": {
    "collapsed": false
   },
   "outputs": [
    {
     "data": {
      "text/plain": [
       "(6869, 13980)"
      ]
     },
     "execution_count": 31,
     "metadata": {},
     "output_type": "execute_result"
    }
   ],
   "source": [
    "#filtering out m/z bins that are strongly correlated to your target bin (i.e., bins in the range 5790-5810)\n",
    "index_2 = np.arange(data_matrix_2.shape[1])[2946:2966]\n",
    "data_left_2 = np.delete(data_matrix_2[real_rows_2, :],index_2,1)\n",
    "data_left_2.shape"
   ]
  },
  {
   "cell_type": "code",
   "execution_count": 32,
   "metadata": {
    "collapsed": false
   },
   "outputs": [
    {
     "data": {
      "text/plain": [
       "(9577,)"
      ]
     },
     "execution_count": 32,
     "metadata": {},
     "output_type": "execute_result"
    }
   ],
   "source": [
    "real_data_1 = data_left_1\n",
    "real_data_2 = data_left_2\n",
    "real_labels_1.shape"
   ]
  },
  {
   "cell_type": "code",
   "execution_count": 33,
   "metadata": {
    "collapsed": false
   },
   "outputs": [
    {
     "data": {
      "text/plain": [
       "(16446,)"
      ]
     },
     "execution_count": 33,
     "metadata": {},
     "output_type": "execute_result"
    }
   ],
   "source": [
    "real_labels = np.concatenate((real_labels_1, real_labels_2), axis=0)\n",
    "real_labels.shape"
   ]
  },
  {
   "cell_type": "code",
   "execution_count": 34,
   "metadata": {
    "collapsed": false
   },
   "outputs": [
    {
     "data": {
      "text/plain": [
       "(16446, 13980)"
      ]
     },
     "execution_count": 34,
     "metadata": {},
     "output_type": "execute_result"
    }
   ],
   "source": [
    "real_data = np.concatenate((real_data_1, real_data_2), axis=0)\n",
    "real_data.shape"
   ]
  },
  {
   "cell_type": "markdown",
   "metadata": {},
   "source": [
    "Preprocessing: peak picking"
   ]
  },
  {
   "cell_type": "code",
   "execution_count": 35,
   "metadata": {
    "collapsed": true
   },
   "outputs": [],
   "source": [
    "import numpy as np\n",
    "import matplotlib.pyplot as plt\n",
    "from mpl_toolkits.mplot3d import Axes3D\n",
    "from sklearn import decomposition\n",
    "from sklearn import datasets\n",
    "from sklearn.decomposition import PCA as sklearnPCA\n",
    "from sklearn import preprocessing"
   ]
  },
  {
   "cell_type": "code",
   "execution_count": 36,
   "metadata": {
    "collapsed": true
   },
   "outputs": [],
   "source": [
    "from sklearn.feature_selection import SelectKBest\n",
    "from sklearn.feature_selection import chi2"
   ]
  },
  {
   "cell_type": "code",
   "execution_count": 37,
   "metadata": {
    "collapsed": false
   },
   "outputs": [],
   "source": [
    "#peak-picking\n",
    "data_pp = SelectKBest(k=500).fit_transform(real_data, real_labels) # score function is f_classif\n",
    "#data_pp = SelectKBest(chi2,k=500).fit_transform(real_data, real_labels)"
   ]
  },
  {
   "cell_type": "code",
   "execution_count": 38,
   "metadata": {
    "collapsed": false
   },
   "outputs": [
    {
     "data": {
      "text/plain": [
       "(16446, 500)"
      ]
     },
     "execution_count": 38,
     "metadata": {},
     "output_type": "execute_result"
    }
   ],
   "source": [
    "data_pp.shape"
   ]
  },
  {
   "cell_type": "code",
   "execution_count": 39,
   "metadata": {
    "collapsed": false
   },
   "outputs": [
    {
     "data": {
      "text/plain": [
       "array([   0,    1,    2, ..., 9574, 9575, 9576])"
      ]
     },
     "execution_count": 39,
     "metadata": {},
     "output_type": "execute_result"
    }
   ],
   "source": [
    "index_1_ = np.arange(data_pp.shape[0])[0:9577]\n",
    "index_1_"
   ]
  },
  {
   "cell_type": "code",
   "execution_count": 40,
   "metadata": {
    "collapsed": false
   },
   "outputs": [
    {
     "data": {
      "text/plain": [
       "(9577, 500)"
      ]
     },
     "execution_count": 40,
     "metadata": {},
     "output_type": "execute_result"
    }
   ],
   "source": [
    "data_pp_1 = data_pp[index_1_,:]\n",
    "data_pp_1.shape"
   ]
  },
  {
   "cell_type": "code",
   "execution_count": 41,
   "metadata": {
    "collapsed": false
   },
   "outputs": [
    {
     "data": {
      "text/plain": [
       "(6869, 500)"
      ]
     },
     "execution_count": 41,
     "metadata": {},
     "output_type": "execute_result"
    }
   ],
   "source": [
    "index_2_ = np.arange(data_pp.shape[0])[9577:16447]\n",
    "data_pp_2 = data_pp[index_2_,:]\n",
    "data_pp_2.shape"
   ]
  },
  {
   "cell_type": "code",
   "execution_count": 42,
   "metadata": {
    "collapsed": false
   },
   "outputs": [
    {
     "data": {
      "text/plain": [
       "array([ 9577,  9578,  9579, ..., 16443, 16444, 16445])"
      ]
     },
     "execution_count": 42,
     "metadata": {},
     "output_type": "execute_result"
    }
   ],
   "source": [
    "index_2_"
   ]
  },
  {
   "cell_type": "code",
   "execution_count": 43,
   "metadata": {
    "collapsed": false
   },
   "outputs": [
    {
     "data": {
      "text/plain": [
       "(9577, 500)"
      ]
     },
     "execution_count": 43,
     "metadata": {},
     "output_type": "execute_result"
    }
   ],
   "source": [
    "minvals_1 = np.amin(data_pp_1, 0)\n",
    "maxvals_1 = np.amax(data_pp_1, 0)\n",
    "ranges_1 = 1.0 / (maxvals_1 - minvals_1)\n",
    "scaler_1 = np.diag(ranges_1)\n",
    "\n",
    "data_pp_scaled_1 = np.dot(data_pp_1, scaler_1)\n",
    "data_pp_scaled_1.shape"
   ]
  },
  {
   "cell_type": "code",
   "execution_count": 44,
   "metadata": {
    "collapsed": false
   },
   "outputs": [
    {
     "data": {
      "text/plain": [
       "(6869, 500)"
      ]
     },
     "execution_count": 44,
     "metadata": {},
     "output_type": "execute_result"
    }
   ],
   "source": [
    "minvals_2 = np.amin(data_pp_2, 0)\n",
    "maxvals_2 = np.amax(data_pp_2, 0)\n",
    "ranges_2 = 1.0 / (maxvals_2 - minvals_2)\n",
    "scaler_2 = np.diag(ranges_2)\n",
    "\n",
    "data_pp_scaled_2 = np.dot(data_pp_2, scaler_2)\n",
    "data_pp_scaled_2.shape"
   ]
  },
  {
   "cell_type": "markdown",
   "metadata": {},
   "source": [
    "SVM\n",
    "\n",
    "Code to run nested cross-validation experiment, which involves\n",
    "\n",
    "    outer cross-validation: 2 folds, returns list of (auc, predictions) per fold\n",
    "    inner cross-validation: tuning hyperparameters (using 2x3 fold cv)\n",
    "\n"
   ]
  },
  {
   "cell_type": "code",
   "execution_count": 45,
   "metadata": {
    "collapsed": true
   },
   "outputs": [],
   "source": [
    "from sklearn.svm import SVC, LinearSVC\n",
    "from sklearn import metrics\n",
    "import optunity\n",
    "import optunity.metrics\n",
    "import optunity.cross_validation\n",
    "\n",
    "import numpy as np\n",
    "from sklearn import linear_model"
   ]
  },
  {
   "cell_type": "markdown",
   "metadata": {},
   "source": [
    "# data2 SVM"
   ]
  },
  {
   "cell_type": "code",
   "execution_count": 46,
   "metadata": {
    "collapsed": false
   },
   "outputs": [],
   "source": [
    "data_2 = np.hstack((real_rows_xy_2, data_pp_scaled_2))\n",
    "\n",
    "def nested_cv_data2_SVM():\n",
    "    @optunity.cross_validated(x=data_2, y=real_labels_2, num_folds=2,\n",
    "                         aggregator=optunity.cross_validation.identity)\n",
    "    def nested_cv_data2SVM(x_train, y_train, x_test, y_test):\n",
    "\n",
    "    # extract spatial location of pixels (first 2 cols)\n",
    "        x_train = x_train[:, 2:]\n",
    "        rows = x_test[:, 0]\n",
    "        cols = x_test[:, 1]\n",
    "        x_test = x_test[:, 2:]\n",
    "    \n",
    "    # inner cross-validation to estimate performance of a set of hyperparameters\n",
    "        @optunity.cross_validated(x=x_train, y=y_train, num_folds=3, num_iter=2)\n",
    "        def inner_cv_data2SVM(x_train, y_train, x_test, y_test, C):\n",
    "            model_SVM = LinearSVC(C=C).fit(x_train, y_train)\n",
    "            predictions_SVM = model_SVM.decision_function(x_test)\n",
    "            roc_SVM = optunity.metrics.roc_auc(y_test, predictions_SVM)\n",
    "        #print('auroc in xval: %1.3f' % roc)\n",
    "            return roc_SVM\n",
    "    \n",
    "        hpars, info, _ = optunity.maximize(inner_cv_data2SVM, num_evals=10, C=[0, 10], pmap=optunity.parallel.pmap)\n",
    "    #print('')\n",
    "    #print('Hyperparameters: ' + str(hpars))\n",
    "    #print('Cross-validated AUROC after tuning: %1.3f' % info.optimum)\n",
    "        model_SVM = LinearSVC(**hpars).fit(x_train, y_train)\n",
    "        predictions_SVM = model_SVM.decision_function(x_test)\n",
    "        auc_SVM = optunity.metrics.roc_auc(y_test, predictions_SVM)\n",
    "        return (auc_SVM, np.vstack((rows, cols, predictions_SVM)),np.vstack((rows, cols, y_test)))\n",
    "\n",
    "    res_SVM = nested_cv_data2SVM()\n",
    "    mean_roc_auc_SVM = sum(map(op.itemgetter(0), res_SVM)) / len(res_SVM)\n",
    "    \n",
    "    predictions_SVM = np.hstack(map(op.itemgetter(1), res_SVM))\n",
    "    y_test_SVM = np.hstack(map(op.itemgetter(2), res_SVM))\n",
    "    \n",
    "    #print('')\n",
    "    #print('Mean area under ROC curve in outer cross-validation: %1.3f' % mean_roc_auc_SVM)\n",
    "    return mean_roc_auc_SVM, predictions_SVM, y_test_SVM"
   ]
  },
  {
   "cell_type": "markdown",
   "metadata": {},
   "source": [
    "# data1_SVM model on data2 and SGDClassifier"
   ]
  },
  {
   "cell_type": "code",
   "execution_count": 47,
   "metadata": {
    "collapsed": false
   },
   "outputs": [],
   "source": [
    "# extend data matrix to include spatial location of pixels in first 2 cols\n",
    "data_1 = np.hstack((real_rows_xy_1, data_pp_scaled_1))\n",
    "\n",
    "def nested_cv_using_fresh_cvdata():\n",
    "    #iterations = iterations\n",
    "    @optunity.cross_validated(x=data_1, y=real_labels_1, num_folds=2, aggregator=optunity.cross_validation.identity)\n",
    "    def nested_cv(x_train, y_train, x_test, y_test):\n",
    "\n",
    "        # extract spatial location of pixels (first 2 cols)\n",
    "        x_train = x_train[:, 2:]\n",
    "        rows = x_test[:, 0]\n",
    "        cols = x_test[:, 1]\n",
    "        x_test = x_test[:, 2:]\n",
    "    \n",
    "        # inner cross-validation to estimate performance of a set of hyperparameters\n",
    "        @optunity.cross_validated(x=x_train, y=y_train, num_folds=3, num_iter=2)\n",
    "        def inner_cv(x_train, y_train, x_test, y_test, C):\n",
    "            model = LinearSVC(C=C).fit(x_train, y_train)\n",
    "            predictions = model.decision_function(x_test)\n",
    "            roc = optunity.metrics.roc_auc(y_test, predictions)\n",
    "            #print('auroc in xval: %1.3f' % roc)\n",
    "            return roc\n",
    "    \n",
    "        hpars, info, _ = optunity.maximize(inner_cv, num_evals=10, C=[0, 10], pmap=optunity.parallel.pmap)\n",
    "        #print('')\n",
    "        #print('Hyperparameters: ' + str(hpars))\n",
    "        #print('Cross-validated AUROC after tuning: %1.3f' % info.optimum)\n",
    "        model = LinearSVC(**hpars).fit(x_train, y_train)\n",
    "        predictions = model.decision_function(x_test)\n",
    "        auc = optunity.metrics.roc_auc(y_test, predictions)\n",
    "        coef_ = model.coef_\n",
    "        intercept_ = model.intercept_ \n",
    "        return (auc, np.vstack((rows, cols, predictions)),np.vstack((rows, cols, y_test)),coef_,intercept_, model)\n",
    "\n",
    "    res = nested_cv()\n",
    "    mean_roc_auc = sum(map(op.itemgetter(0), res)) / len(res)\n",
    "\n",
    "    \n",
    "    #print('')\n",
    "    #print('Mean area under ROC curve in outer cross-validation: %1.3f' % mean_roc_auc)\n",
    "    \n",
    "    coef = res[0][3]\n",
    "    intercept = res[0][4]\n",
    "    model = res[0][5]\n",
    "    const_a = 1/6869*1\n",
    "    \n",
    "    \n",
    "    @optunity.cross_validated(x=data_2, y=real_labels_2, num_folds=2, aggregator=optunity.cross_validation.identity)\n",
    "    def nested_cv_1(x_train, y_train, x_test, y_test):\n",
    "\n",
    "        # extract spatial location of pixels (first 2 cols)\n",
    "        x_train = x_train[:, 2:]\n",
    "        rows = x_test[:, 0]\n",
    "        cols = x_test[:, 1]\n",
    "        x_test = x_test[:, 2:]\n",
    "    \n",
    "        clf = linear_model.SGDClassifier(alpha = const_a,warm_start = True,n_iter = 10)\n",
    "        clf.fit(x_train, y_train,coef_init=coef, intercept_init=intercept)\n",
    "        niter_ = clf.n_iter\n",
    "        predictions_SGD = clf.decision_function(x_test)\n",
    "        auc_SGD = optunity.metrics.roc_auc(y_test, predictions_SGD)\n",
    "        \n",
    "        predictions_None = model.decision_function(x_test)\n",
    "        auc_None = optunity.metrics.roc_auc(y_test, predictions_None)\n",
    "        return (auc_SGD, auc_None, np.vstack((rows, cols, predictions_SGD)),np.vstack((rows, cols, predictions_None)),np.vstack((rows, cols, y_test)))\n",
    "    \n",
    "    res_1 = nested_cv_1()\n",
    "    mean_roc_auc_SGD = sum(map(op.itemgetter(0), res_1)) / len(res_1)\n",
    "    mean_roc_auc_None = sum(map(op.itemgetter(1), res_1)) / len(res_1)\n",
    "    \n",
    "    predictions_SGD= np.hstack(map(op.itemgetter(2), res_1))\n",
    "    predictions_None= np.hstack(map(op.itemgetter(3), res_1))\n",
    "    y_test_ = np.hstack(map(op.itemgetter(4), res_1))\n",
    "    \n",
    "    #print('')\n",
    "    #print('Mean area under ROC curve in outer cross-validation-1: %1.3f' % mean_roc_auc_1)\n",
    "    \n",
    "    #niter = res_1[0][4]\n",
    "    \n",
    "    return mean_roc_auc_SGD, mean_roc_auc_None, predictions_SGD,predictions_None,y_test_ "
   ]
  },
  {
   "cell_type": "code",
   "execution_count": 48,
   "metadata": {
    "collapsed": true
   },
   "outputs": [],
   "source": [
    "from sklearn.metrics import roc_curve, auc\n",
    "from sklearn.model_selection import train_test_split\n",
    "from sklearn.preprocessing import label_binarize\n",
    "from sklearn.multiclass import OneVsRestClassifier\n",
    "from scipy import interp"
   ]
  },
  {
   "cell_type": "code",
   "execution_count": 49,
   "metadata": {
    "collapsed": false
   },
   "outputs": [],
   "source": [
    "all_data = []\n",
    "\n",
    "auc1s = []\n",
    "auc2s = []\n",
    "auc3s = []\n",
    "\n",
    "xxs = np.linspace(0, 1, 100)\n",
    "all_tprsSVM = []\n",
    "all_tprsSGD = []\n",
    "all_tprsNone = []\n",
    "\n",
    "#niters = []\n",
    "# iteration time\n",
    "total = 50\n",
    "xs = [x for x in range(1,total+1)]\n",
    "for x in range(0, total):\n",
    "        #print(iterations)\n",
    "    #partialData = get10percentData()\n",
    "    auc1, predictionsSVM, y_testSVM = nested_cv_data2_SVM()\n",
    "    auc2, auc3, predictionsSGD, predictionsNone, yTest = nested_cv_using_fresh_cvdata()\n",
    "    \n",
    "    auc1s.append(auc1)\n",
    "    auc2s.append(auc2)\n",
    "    auc3s.append(auc3)\n",
    "    \n",
    "    fpr_SVM,tpr_SVM,threshold_SVM = roc_curve(y_testSVM[2, :], predictionsSVM[2, :])\n",
    "    fpr_SGD,tpr_SGD,threshold_SGD = roc_curve(yTest[2, :], predictionsSGD[2, :])\n",
    "    fpr_None,tpr_None,threshold_None = roc_curve(yTest[2, :], predictionsNone[2, :])\n",
    "    \n",
    "    new_tprSVM = np.interp(xxs, fpr_SVM, tpr_SVM)\n",
    "    new_tprSGD = np.interp(xxs, fpr_SGD, tpr_SGD)\n",
    "    new_tprNone = np.interp(xxs, fpr_None, tpr_None)\n",
    "    \n",
    "    all_tprsSVM.append(new_tprSVM)\n",
    "    all_tprsSGD.append(new_tprSGD)\n",
    "    all_tprsNone.append(new_tprNone)\n",
    "    \n",
    "    #niters.append(niter)\n",
    "\n",
    "    \n",
    "    #data_to_plot = [auc1s, auc2s]\n",
    "    #plt.boxplot(data_to_plot)\n",
    "    #if y == 0:\n",
    "\n",
    "all_data = [auc1s, auc2s,auc3s]\n",
    "\n",
    "tprsSVM = np.array(all_tprsSVM)\n",
    "tprsSGD = np.array(all_tprsSGD)\n",
    "tprsNone = np.array(all_tprsNone)\n",
    "\n",
    "\n",
    "mean_tprsSVM = tprsSVM.mean(axis=0) # MEAN\n",
    "mean_tprsSGD = tprsSGD.mean(axis=0)\n",
    "mean_tprsNone = tprsNone.mean(axis=0)\n",
    "\n",
    "std_SVM = tprsSVM.std(axis=0) # Standard deviation\n",
    "std_SGD= tprsSGD.std(axis=0)\n",
    "std_None = tprsNone.std(axis=0)                     \n",
    "                      \n",
    "tprs_upperSVM = np.minimum(mean_tprsSVM + std_SVM, 1) # to draw std\n",
    "tprs_lowerSVM = mean_tprsSVM - std_SVM\n",
    "\n",
    "tprs_upperSGD = np.minimum(mean_tprsSGD + std_SGD, 1) # to draw std\n",
    "tprs_lowerSGD = mean_tprsSGD - std_SGD\n",
    "\n",
    "tprs_upperNone = np.minimum(mean_tprsNone + std_None, 1) # to draw std\n",
    "tprs_lowerNone = mean_tprsNone - std_None\n",
    "\n",
    "\n"
   ]
  },
  {
   "cell_type": "code",
   "execution_count": 55,
   "metadata": {
    "collapsed": false
   },
   "outputs": [
    {
     "data": {
      "text/plain": [
       "0.96727220248093493"
      ]
     },
     "execution_count": 55,
     "metadata": {},
     "output_type": "execute_result"
    }
   ],
   "source": [
    "np.mean(auc1s)"
   ]
  },
  {
   "cell_type": "code",
   "execution_count": 56,
   "metadata": {
    "collapsed": false
   },
   "outputs": [
    {
     "data": {
      "text/plain": [
       "0.96189692638177804"
      ]
     },
     "execution_count": 56,
     "metadata": {},
     "output_type": "execute_result"
    }
   ],
   "source": [
    "np.mean(auc2s)"
   ]
  },
  {
   "cell_type": "code",
   "execution_count": 57,
   "metadata": {
    "collapsed": false
   },
   "outputs": [
    {
     "data": {
      "text/plain": [
       "0.87301061996702156"
      ]
     },
     "execution_count": 57,
     "metadata": {},
     "output_type": "execute_result"
    }
   ],
   "source": [
    "np.mean(auc3s)"
   ]
  },
  {
   "cell_type": "markdown",
   "metadata": {},
   "source": [
    "# boxplot"
   ]
  },
  {
   "cell_type": "code",
   "execution_count": 52,
   "metadata": {
    "collapsed": false
   },
   "outputs": [
    {
     "data": {
      "image/png": "[encoded data removed]",
      "text/plain": [
       "<matplotlib.figure.Figure at 0x7f464ffaebe0>"
      ]
     },
     "metadata": {},
     "output_type": "display_data"
    }
   ],
   "source": [
    "fig = plt.figure()\n",
    "fig.suptitle('Transfer Learning results comparison', fontsize=15, fontweight='bold')\n",
    "ax = fig.add_subplot(111)\n",
    "ax.set_xticklabels(['SVM', 'Transfer_SGD', 'Transfer_SVM'])\n",
    "ax.get_xaxis().tick_bottom()\n",
    "ax.get_yaxis().tick_left()\n",
    "ax.boxplot(all_data)\n",
    "plt.boxplot(all_data)\n",
    "#ax.set_title('axes title')\n",
    "plt.xticks([1,2,3],['SVM', 'Transfer_SGD', 'Transfer_None'])\n",
    "ax.set_ylabel('AUC')\n",
    "plt.show()"
   ]
  },
  {
   "cell_type": "markdown",
   "metadata": {},
   "source": [
    "# ROC"
   ]
  },
  {
   "cell_type": "code",
   "execution_count": 59,
   "metadata": {
    "collapsed": false
   },
   "outputs": [
    {
     "data": {
      "image/png": "[encoded data removed]",
      "text/plain": [
       "<matplotlib.figure.Figure at 0x7f464ec50518>"
      ]
     },
     "metadata": {},
     "output_type": "display_data"
    }
   ],
   "source": [
    "plt.title('Receiver Operating Characteristic')\n",
    "#plt.plot(fpr, tpr, 'b', label = 'AUC = %0.2f' % roc_auc)\n",
    "plt.plot(xxs, mean_tprsSVM, 'y',label = 'yellow line: SVM')\n",
    "plt.fill_between(xxs, tprs_lowerSVM, tprs_upperSVM, color='yellow', alpha=0.3) # std area :)\n",
    "plt.plot(xxs, mean_tprsSGD, 'b',label = 'blue line: Transfer_SGD')\n",
    "plt.fill_between(xxs, tprs_lowerSGD, tprs_upperSGD, color='blue', alpha=0.3) # std area :)\n",
    "plt.plot(xxs, mean_tprsNone, 'g',label = 'green line: Transfer_SVM')\n",
    "plt.fill_between(xxs, tprs_lowerNone, tprs_upperNone, color='green', alpha=0.3) # std area :)\n",
    "plt.legend(loc = 'lower right')\n",
    "plt.plot([0, 1], [0, 1],'r--')\n",
    "plt.xlim([0, 1])\n",
    "plt.ylim([0, 1])\n",
    "plt.gca().set_aspect('equal', adjustable='box')\n",
    "plt.ylabel('True Positive Rate')\n",
    "plt.xlabel('False Positive Rate')\n",
    "plt.show()"
   ]
  },
  {
   "cell_type": "code",
   "execution_count": null,
   "metadata": {
    "collapsed": true
   },
   "outputs": [],
   "source": []
  },
  {
   "cell_type": "code",
   "execution_count": null,
   "metadata": {
    "collapsed": true
   },
   "outputs": [],
   "source": []
  }
 ],
 "metadata": {
  "kernelspec": {
   "display_name": "Python 3",
   "language": "python",
   "name": "python3"
  },
  "language_info": {
   "codemirror_mode": {
    "name": "ipython",
    "version": 3
   },
   "file_extension": ".py",
   "mimetype": "text/x-python",
   "name": "python",
   "nbconvert_exporter": "python",
   "pygments_lexer": "ipython3",
   "version": "3.6.0"
  }
 },
 "nbformat": 4,
 "nbformat_minor": 2
}