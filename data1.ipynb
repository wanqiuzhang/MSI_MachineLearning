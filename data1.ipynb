{
 "cells": [
  {
   "cell_type": "code",
   "execution_count": 1,
   "metadata": {
    "collapsed": true
   },
   "outputs": [],
   "source": [
    "import scipy.io\n",
    "import numpy as np"
   ]
  },
  {
   "cell_type": "code",
   "execution_count": 2,
   "metadata": {
    "collapsed": true
   },
   "outputs": [],
   "source": [
    "%matplotlib inline\n",
    "import matplotlib\n",
    "import matplotlib.pyplot as plt # matplotlib\n",
    "matplotlib.rcParams['figure.figsize'] = list(map(lambda x: 2*x, matplotlib.rcParams['figure.figsize']))\n",
    "matplotlib.style.use('ggplot')"
   ]
  },
  {
   "cell_type": "code",
   "execution_count": 30,
   "metadata": {
    "collapsed": false
   },
   "outputs": [
    {
     "data": {
      "text/plain": [
       "dict_keys(['__header__', '__version__', '__globals__', 'bin', 'data1_Xian', 'label1', 'spotColumn1_Xian', 'spotRow1_Xian'])"
      ]
     },
     "execution_count": 30,
     "metadata": {},
     "output_type": "execute_result"
    }
   ],
   "source": [
    "data = scipy.io.loadmat('../../data1.mat')\n",
    "data.keys()"
   ]
  },
  {
   "cell_type": "code",
   "execution_count": 31,
   "metadata": {
    "collapsed": true
   },
   "outputs": [],
   "source": [
    "mz_values = data['bin'].T"
   ]
  },
  {
   "cell_type": "code",
   "execution_count": 32,
   "metadata": {
    "collapsed": false
   },
   "outputs": [
    {
     "data": {
      "text/plain": [
       "array([[  1996.95878277],\n",
       "       [  1998.24538575],\n",
       "       [  1999.53198872],\n",
       "       ..., \n",
       "       [ 20005.54064941],\n",
       "       [ 20006.82725239],\n",
       "       [ 20008.11385537]])"
      ]
     },
     "execution_count": 32,
     "metadata": {},
     "output_type": "execute_result"
    }
   ],
   "source": [
    "mz_values"
   ]
  },
  {
   "cell_type": "code",
   "execution_count": 33,
   "metadata": {
    "collapsed": false
   },
   "outputs": [
    {
     "data": {
      "text/plain": [
       "array([136, 135, 137, ...,  90,  92,  91], dtype=uint8)"
      ]
     },
     "execution_count": 33,
     "metadata": {},
     "output_type": "execute_result"
    }
   ],
   "source": [
    "coorX = data['spotRow1_Xian'][0]\n",
    "coorX"
   ]
  },
  {
   "cell_type": "code",
   "execution_count": 34,
   "metadata": {
    "collapsed": false
   },
   "outputs": [
    {
     "data": {
      "text/plain": [
       "array([166, 166, 166, ..., 125, 125, 125], dtype=uint8)"
      ]
     },
     "execution_count": 34,
     "metadata": {},
     "output_type": "execute_result"
    }
   ],
   "source": [
    "coorY = data['spotColumn1_Xian'][0]\n",
    "coorY"
   ]
  },
  {
   "cell_type": "code",
   "execution_count": 35,
   "metadata": {
    "collapsed": false
   },
   "outputs": [
    {
     "name": "stdout",
     "output_type": "stream",
     "text": [
      "nrows 129, ncols 154\n"
     ]
    }
   ],
   "source": [
    "coorX -= coorX.min()\n",
    "coorY -= coorY.min()\n",
    "\n",
    "nrows = coorX.max() + 1\n",
    "ncols = coorY.max() + 1\n",
    "print('nrows %d, ncols %d' % (nrows, ncols))"
   ]
  },
  {
   "cell_type": "code",
   "execution_count": 36,
   "metadata": {
    "collapsed": false
   },
   "outputs": [
    {
     "data": {
      "text/plain": [
       "<matplotlib.image.AxesImage at 0x7f9004415048>"
      ]
     },
     "execution_count": 36,
     "metadata": {},
     "output_type": "execute_result"
    },
    {
     "data": {
      "image/png": "[encoded data removed]",
      "text/plain": [
       "<matplotlib.figure.Figure at 0x7f9004390860>"
      ]
     },
     "metadata": {},
     "output_type": "display_data"
    }
   ],
   "source": [
    "mask = np.zeros((nrows, ncols))\n",
    "for r, c in zip(coorX, coorY):\n",
    "    mask[r,c] = 1\n",
    "\n",
    "plt.imshow(mask, cmap='binary')"
   ]
  },
  {
   "cell_type": "code",
   "execution_count": 37,
   "metadata": {
    "collapsed": false
   },
   "outputs": [
    {
     "data": {
      "text/plain": [
       "(9577, 14000)"
      ]
     },
     "execution_count": 37,
     "metadata": {},
     "output_type": "execute_result"
    }
   ],
   "source": [
    "data_cube = np.zeros((nrows, ncols, mz_values.shape[0]))\n",
    "data_cube[coorX, coorY, :] = data[\"data1_Xian\"]\n",
    "\n",
    "data_matrix = data['data1_Xian']\n",
    "data_matrix.shape"
   ]
  },
  {
   "cell_type": "code",
   "execution_count": 39,
   "metadata": {
    "collapsed": false
   },
   "outputs": [
    {
     "data": {
      "text/plain": [
       "(9577, 2)"
      ]
     },
     "execution_count": 39,
     "metadata": {},
     "output_type": "execute_result"
    }
   ],
   "source": [
    "row2grid = {r: (coorX[r], coorY[r]) for r in range(data_matrix.shape[0])}\n",
    "grid2row = {(coorX[r], coorY[r]): r for r in range(data_matrix.shape[0])}\n",
    "\n",
    "get_bin = lambda mz: np.argmin(np.abs(mz_values - mz))\n",
    "\n",
    "real_rows = []\n",
    "real_rows_xy = []\n",
    "for r in range(nrows):\n",
    "    for c in range(ncols):\n",
    "        try:\n",
    "            row = grid2row[(r, c)]\n",
    "            real_rows_xy.append((r, c))\n",
    "            real_rows.append(row)\n",
    "        except:\n",
    "            pass\n",
    "        \n",
    "real_rows = np.array(real_rows)\n",
    "real_rows.shape\n",
    "\n",
    "real_rows_xy = np.array(np.array(real_rows_xy))\n",
    "real_rows_xy.shape"
   ]
  },
  {
   "cell_type": "code",
   "execution_count": 68,
   "metadata": {
    "collapsed": false
   },
   "outputs": [
    {
     "name": "stderr",
     "output_type": "stream",
     "text": [
      "/users/stadius/claesenm/anaconda3/lib/python3.6/site-packages/ipykernel/__main__.py:5: RuntimeWarning: divide by zero encountered in log10\n"
     ]
    },
    {
     "data": {
      "text/plain": [
       "<matplotlib.colorbar.Colorbar at 0x7f908aa9e2b0>"
      ]
     },
     "execution_count": 68,
     "metadata": {},
     "output_type": "execute_result"
    },
    {
     "data": {
      "image/png": "[encoded data removed]",
      "text/plain": [
       "<matplotlib.figure.Figure at 0x7f908b6064a8>"
      ]
     },
     "metadata": {},
     "output_type": "display_data"
    }
   ],
   "source": [
    "from img_maker import make_image\n",
    "insulin_bin_idx = get_bin(5800) # human insulin protein has molecular mass 5808 Da\n",
    "#plt.imshow(data_cube[:,:, insulin_bin_idx])\n",
    "\n",
    "insulin_img = make_image(data_matrix[:, insulin_bin_idx], nrows, ncols, grid2row)\n",
    "plt.imshow(np.log10(1+insulin_img), cmap='viridis') # log10 changes the distribution so we can see what's going on better\n",
    "plt.colorbar()"
   ]
  },
  {
   "cell_type": "code",
   "execution_count": 46,
   "metadata": {
    "collapsed": false
   },
   "outputs": [
    {
     "data": {
      "text/plain": [
       "array([ 5800.15718227])"
      ]
     },
     "execution_count": 46,
     "metadata": {},
     "output_type": "execute_result"
    }
   ],
   "source": [
    "mz_values[insulin_bin_idx]"
   ]
  },
  {
   "cell_type": "code",
   "execution_count": 64,
   "metadata": {
    "collapsed": false
   },
   "outputs": [
    {
     "data": {
      "text/plain": [
       "(array([  9.06100000e+03,   1.44000000e+02,   7.40000000e+01,\n",
       "          5.40000000e+01,   2.40000000e+01,   4.60000000e+01,\n",
       "          3.50000000e+01,   2.50000000e+01,   1.20000000e+01,\n",
       "          1.20000000e+01,   7.00000000e+00,   1.30000000e+01,\n",
       "          5.00000000e+00,   8.00000000e+00,   8.00000000e+00,\n",
       "          5.00000000e+00,   9.00000000e+00,   8.00000000e+00,\n",
       "          4.00000000e+00,   5.00000000e+00,   1.00000000e+00,\n",
       "          6.00000000e+00,   3.00000000e+00,   1.00000000e+00,\n",
       "          0.00000000e+00,   2.00000000e+00,   0.00000000e+00,\n",
       "          1.00000000e+00,   0.00000000e+00,   0.00000000e+00,\n",
       "          0.00000000e+00,   1.00000000e+00,   0.00000000e+00,\n",
       "          0.00000000e+00,   1.00000000e+00,   0.00000000e+00,\n",
       "          0.00000000e+00,   0.00000000e+00,   0.00000000e+00,\n",
       "          0.00000000e+00,   0.00000000e+00,   1.00000000e+00,\n",
       "          0.00000000e+00,   0.00000000e+00,   0.00000000e+00,\n",
       "          0.00000000e+00,   0.00000000e+00,   0.00000000e+00,\n",
       "          0.00000000e+00,   1.00000000e+00]),\n",
       " array([  0.        ,   0.71465397,   1.42930795,   2.14396192,\n",
       "          2.85861589,   3.57326986,   4.28792384,   5.00257781,\n",
       "          5.71723178,   6.43188575,   7.14653973,   7.8611937 ,\n",
       "          8.57584767,   9.29050164,  10.00515562,  10.71980959,\n",
       "         11.43446356,  12.14911753,  12.86377151,  13.57842548,\n",
       "         14.29307945,  15.00773342,  15.7223874 ,  16.43704137,\n",
       "         17.15169534,  17.86634932,  18.58100329,  19.29565726,\n",
       "         20.01031123,  20.72496521,  21.43961918,  22.15427315,\n",
       "         22.86892712,  23.5835811 ,  24.29823507,  25.01288904,\n",
       "         25.72754301,  26.44219699,  27.15685096,  27.87150493,\n",
       "         28.5861589 ,  29.30081288,  30.01546685,  30.73012082,\n",
       "         31.44477479,  32.15942877,  32.87408274,  33.58873671,\n",
       "         34.30339069,  35.01804466,  35.73269863]),\n",
       " <a list of 50 Patch objects>)"
      ]
     },
     "execution_count": 64,
     "metadata": {},
     "output_type": "execute_result"
    },
    {
     "data": {
      "image/png": "[encoded data removed]",
      "text/plain": [
       "<matplotlib.figure.Figure at 0x7f908ad3cf28>"
      ]
     },
     "metadata": {},
     "output_type": "display_data"
    }
   ],
   "source": [
    "plt.hist(data_matrix[:, insulin_bin_idx], bins=50)"
   ]
  },
  {
   "cell_type": "code",
   "execution_count": 70,
   "metadata": {
    "collapsed": false
   },
   "outputs": [
    {
     "data": {
      "text/plain": [
       "139"
      ]
     },
     "execution_count": 70,
     "metadata": {},
     "output_type": "execute_result"
    }
   ],
   "source": [
    "insulin_vec = data_matrix[:, insulin_bin_idx]\n",
    "np.sum(insulin_vec > 5)"
   ]
  },
  {
   "cell_type": "code",
   "execution_count": null,
   "metadata": {
    "collapsed": true
   },
   "outputs": [],
   "source": []
  }
 ],
 "metadata": {
  "kernelspec": {
   "display_name": "Python 3",
   "language": "python",
   "name": "python3"
  },
  "language_info": {
   "codemirror_mode": {
    "name": "ipython",
    "version": 3
   },
   "file_extension": ".py",
   "mimetype": "text/x-python",
   "name": "python",
   "nbconvert_exporter": "python",
   "pygments_lexer": "ipython3",
   "version": "3.6.0"
  }
 },
 "nbformat": 4,
 "nbformat_minor": 2
}